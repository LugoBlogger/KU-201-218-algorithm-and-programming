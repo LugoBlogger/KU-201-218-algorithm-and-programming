{
 "cells": [
  {
   "cell_type": "code",
   "execution_count": 3,
   "metadata": {},
   "outputs": [
    {
     "name": "stdout",
     "output_type": "stream",
     "text": [
      "Cetak dari dalam fungsi\n",
      "None\n"
     ]
    }
   ],
   "source": [
    "def fungsiSaya():\n",
    "  print(\"Cetak dari dalam fungsi\")\n",
    "\n",
    "\n",
    "print(fungsiSaya())"
   ]
  },
  {
   "cell_type": "code",
   "execution_count": 6,
   "metadata": {},
   "outputs": [
    {
     "name": "stdout",
     "output_type": "stream",
     "text": [
      "bilangan lain 100\n"
     ]
    },
    {
     "data": {
      "text/plain": [
       "4"
      ]
     },
     "execution_count": 6,
     "metadata": {},
     "output_type": "execute_result"
    }
   ],
   "source": [
    "bilangan_lain = 100\n",
    "\n",
    "def fungsi_pangkat(bilangan):\n",
    "  hasil = bilangan*bilangan\n",
    "  print(\"bilangan lain\", bilangan_lain)\n",
    "  return hasil\n",
    "\n",
    "fungsi_pangkat(2)\n",
    "# hasil"
   ]
  },
  {
   "cell_type": "code",
   "execution_count": 7,
   "metadata": {},
   "outputs": [
    {
     "name": "stdout",
     "output_type": "stream",
     "text": [
      "*****\n",
      "*   *\n",
      "*   *\n",
      "*   *\n",
      "*   *\n",
      "*   *\n",
      "*****\n"
     ]
    }
   ],
   "source": [
    "def bingkai(lebar, tinggi):\n",
    "  for i in range(tinggi):\n",
    "    if i == 0 or i == tinggi-1:\n",
    "      for j in range(lebar):\n",
    "        print(\"*\", end=\"\")\n",
    "    else:\n",
    "      for j in range(lebar):\n",
    "        if j == 0 or j == lebar-1:\n",
    "          print(\"*\", end=\"\")\n",
    "        else:\n",
    "          print(\" \", end=\"\")\n",
    "\n",
    "    print()\n",
    "\n",
    "bingkai(5, 7)"
   ]
  },
  {
   "cell_type": "code",
   "execution_count": 15,
   "metadata": {},
   "outputs": [
    {
     "name": "stdout",
     "output_type": "stream",
     "text": [
      "**********\n",
      "**********\n"
     ]
    }
   ],
   "source": [
    "def bingkai_satu_baris(lebar, tinggi):\n",
    "  print(\"*\"*lebar + (\"\\n*\"+\" \"*(lebar-2)+\"*\")*(tinggi-2) + \"\\n\"+\"*\"*lebar)\n",
    "\n",
    "bingkai_satu_baris(10, 2)"
   ]
  },
  {
   "cell_type": "code",
   "execution_count": null,
   "metadata": {},
   "outputs": [],
   "source": []
  }
 ],
 "metadata": {
  "kernelspec": {
   "display_name": "base",
   "language": "python",
   "name": "python3"
  },
  "language_info": {
   "codemirror_mode": {
    "name": "ipython",
    "version": 3
   },
   "file_extension": ".py",
   "mimetype": "text/x-python",
   "name": "python",
   "nbconvert_exporter": "python",
   "pygments_lexer": "ipython3",
   "version": "3.11.4"
  },
  "orig_nbformat": 4
 },
 "nbformat": 4,
 "nbformat_minor": 2
}
