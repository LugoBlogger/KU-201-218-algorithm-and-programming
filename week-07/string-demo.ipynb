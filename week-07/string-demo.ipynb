{
 "cells": [
  {
   "cell_type": "code",
   "execution_count": 1,
   "metadata": {},
   "outputs": [
    {
     "ename": "TypeError",
     "evalue": "'str' object does not support item assignment",
     "output_type": "error",
     "traceback": [
      "\u001b[0;31m---------------------------------------------------------------------------\u001b[0m",
      "\u001b[0;31mTypeError\u001b[0m                                 Traceback (most recent call last)",
      "\u001b[1;32m/home/henokh/Documents/job-related/024 - SI ITK/ITK/Courses/KU-201-218-algorithm-and-programming/KU-201-218-algorithm-and-programming/week-07/string-demo.ipynb Cell 1\u001b[0m line \u001b[0;36m3\n\u001b[1;32m      <a href='vscode-notebook-cell:/home/henokh/Documents/job-related/024%20-%20SI%20ITK/ITK/Courses/KU-201-218-algorithm-and-programming/KU-201-218-algorithm-and-programming/week-07/string-demo.ipynb#W0sZmlsZQ%3D%3D?line=0'>1</a>\u001b[0m kampusTengahHutan \u001b[39m=\u001b[39m \u001b[39m\"\u001b[39m\u001b[39mInstitut Teknologi Kalimantan\u001b[39m\u001b[39m\"\u001b[39m\n\u001b[0;32m----> <a href='vscode-notebook-cell:/home/henokh/Documents/job-related/024%20-%20SI%20ITK/ITK/Courses/KU-201-218-algorithm-and-programming/KU-201-218-algorithm-and-programming/week-07/string-demo.ipynb#W0sZmlsZQ%3D%3D?line=2'>3</a>\u001b[0m kampusTengahHutan[\u001b[39m8\u001b[39;49m] \u001b[39m=\u001b[39m \u001b[39m\"\u001b[39m\u001b[39m_\u001b[39m\u001b[39m\"\u001b[39m\n\u001b[1;32m      <a href='vscode-notebook-cell:/home/henokh/Documents/job-related/024%20-%20SI%20ITK/ITK/Courses/KU-201-218-algorithm-and-programming/KU-201-218-algorithm-and-programming/week-07/string-demo.ipynb#W0sZmlsZQ%3D%3D?line=3'>4</a>\u001b[0m kampusTengahHutan\n",
      "\u001b[0;31mTypeError\u001b[0m: 'str' object does not support item assignment"
     ]
    }
   ],
   "source": [
    "kampusTengahHutan = \"Institut Teknologi Kalimantan\"\n",
    "\n",
    "kampusTengahHutan[8] = \"_\"\n",
    "kampusTengahHutan"
   ]
  }
 ],
 "metadata": {
  "kernelspec": {
   "display_name": "base",
   "language": "python",
   "name": "python3"
  },
  "language_info": {
   "codemirror_mode": {
    "name": "ipython",
    "version": 3
   },
   "file_extension": ".py",
   "mimetype": "text/x-python",
   "name": "python",
   "nbconvert_exporter": "python",
   "pygments_lexer": "ipython3",
   "version": "3.11.4"
  },
  "orig_nbformat": 4
 },
 "nbformat": 4,
 "nbformat_minor": 2
}
