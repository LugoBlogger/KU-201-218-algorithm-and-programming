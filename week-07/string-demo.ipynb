{
 "cells": [
  {
   "cell_type": "code",
   "execution_count": 6,
   "metadata": {},
   "outputs": [
    {
     "name": "stdout",
     "output_type": "stream",
     "text": [
      "<class 'str'> <class 'int'> <class 'float'>\n"
     ]
    }
   ],
   "source": [
    "bil = 2\n",
    "bil_desimal = 0.4\n",
    "\n",
    "aktivitas = 'Saya minum air.'\n",
    "aktivitas_2 = \"Saya minum air.\"\n",
    "\n",
    "contoh_kalimat = 'Ibu berkata, \"Segera pulang!\"'\n",
    "\n",
    "contoh_kalimat2 = 'O\\\"niel berkata, \"Oke bu\"' \n",
    "\n",
    "print(type(aktivitas), type(bil), type(bil_desimal))"
   ]
  },
  {
   "cell_type": "code",
   "execution_count": 7,
   "metadata": {},
   "outputs": [
    {
     "name": "stdout",
     "output_type": "stream",
     "text": [
      "Kalimat baris1\n",
      "Kalimat baris2\n"
     ]
    }
   ],
   "source": [
    "print(\"Kalimat baris1\\nKalimat baris2\")"
   ]
  },
  {
   "cell_type": "code",
   "execution_count": 5,
   "metadata": {},
   "outputs": [
    {
     "name": "stdout",
     "output_type": "stream",
     "text": [
      "<class 'list'>\n",
      "<class 'dict'>\n"
     ]
    }
   ],
   "source": [
    "array = [2, 3, 4, 5]\n",
    "print(type(array))\n",
    "\n",
    "\n",
    "var_dictionary = {\"apple\": 8000, \"orange\":7000, \"pineapple\":10000}\n",
    "print(type(var_dictionary))"
   ]
  },
  {
   "cell_type": "code",
   "execution_count": 12,
   "metadata": {},
   "outputs": [
    {
     "ename": "IndexError",
     "evalue": "string index out of range",
     "output_type": "error",
     "traceback": [
      "\u001b[0;31m---------------------------------------------------------------------------\u001b[0m",
      "\u001b[0;31mIndexError\u001b[0m                                Traceback (most recent call last)",
      "\u001b[1;32m/home/henokh/Documents/job-related/024 - SI ITK/ITK/Courses/KU-201-218-algorithm-and-programming/KU-201-218-algorithm-and-programming/week-07/string-demo.ipynb Cell 4\u001b[0m line \u001b[0;36m2\n\u001b[1;32m      <a href='vscode-notebook-cell:/home/henokh/Documents/job-related/024%20-%20SI%20ITK/ITK/Courses/KU-201-218-algorithm-and-programming/KU-201-218-algorithm-and-programming/week-07/string-demo.ipynb#W4sZmlsZQ%3D%3D?line=0'>1</a>\u001b[0m aktivitas \u001b[39m=\u001b[39m \u001b[39m\"\u001b[39m\u001b[39mSaya minum air.\u001b[39m\u001b[39m\"\u001b[39m\n\u001b[0;32m----> <a href='vscode-notebook-cell:/home/henokh/Documents/job-related/024%20-%20SI%20ITK/ITK/Courses/KU-201-218-algorithm-and-programming/KU-201-218-algorithm-and-programming/week-07/string-demo.ipynb#W4sZmlsZQ%3D%3D?line=1'>2</a>\u001b[0m \u001b[39mprint\u001b[39m(aktivitas[\u001b[39m20\u001b[39;49m])\n",
      "\u001b[0;31mIndexError\u001b[0m: string index out of range"
     ]
    }
   ],
   "source": [
    "aktivitas = \"Saya minum air.\"\n",
    "print(aktivitas[20])"
   ]
  },
  {
   "cell_type": "code",
   "execution_count": 13,
   "metadata": {},
   "outputs": [
    {
     "ename": "TypeError",
     "evalue": "'str' object does not support item assignment",
     "output_type": "error",
     "traceback": [
      "\u001b[0;31m---------------------------------------------------------------------------\u001b[0m",
      "\u001b[0;31mTypeError\u001b[0m                                 Traceback (most recent call last)",
      "\u001b[1;32m/home/henokh/Documents/job-related/024 - SI ITK/ITK/Courses/KU-201-218-algorithm-and-programming/KU-201-218-algorithm-and-programming/week-07/string-demo.ipynb Cell 5\u001b[0m line \u001b[0;36m1\n\u001b[0;32m----> <a href='vscode-notebook-cell:/home/henokh/Documents/job-related/024%20-%20SI%20ITK/ITK/Courses/KU-201-218-algorithm-and-programming/KU-201-218-algorithm-and-programming/week-07/string-demo.ipynb#W5sZmlsZQ%3D%3D?line=0'>1</a>\u001b[0m aktivitas[\u001b[39m5\u001b[39;49m] \u001b[39m=\u001b[39m \u001b[39m\"\u001b[39m\u001b[39m_\u001b[39m\u001b[39m\"\u001b[39m\n",
      "\u001b[0;31mTypeError\u001b[0m: 'str' object does not support item assignment"
     ]
    }
   ],
   "source": [
    "aktivitas[5] = \"_\""
   ]
  },
  {
   "cell_type": "code",
   "execution_count": 18,
   "metadata": {},
   "outputs": [
    {
     "name": "stdout",
     "output_type": "stream",
     "text": [
      "Saya_minum_air.\n"
     ]
    }
   ],
   "source": [
    "print(aktivitas[:4] + \"_\" + aktivitas[5:10] + \"_\" + aktivitas[11:])"
   ]
  },
  {
   "cell_type": "code",
   "execution_count": 19,
   "metadata": {},
   "outputs": [
    {
     "name": "stdout",
     "output_type": "stream",
     "text": [
      "Saya_minum_air.\n"
     ]
    }
   ],
   "source": [
    "print(aktivitas.replace(\" \", \"_\"))"
   ]
  },
  {
   "cell_type": "code",
   "execution_count": 20,
   "metadata": {},
   "outputs": [
    {
     "name": "stdout",
     "output_type": "stream",
     "text": [
      "Saya makan air.\n"
     ]
    }
   ],
   "source": [
    "print(aktivitas.replace(\"minum\", \"makan\"))"
   ]
  },
  {
   "cell_type": "code",
   "execution_count": 21,
   "metadata": {},
   "outputs": [
    {
     "name": "stdout",
     "output_type": "stream",
     "text": [
      "saya minum air.\n"
     ]
    }
   ],
   "source": [
    "print(aktivitas.lower())"
   ]
  },
  {
   "cell_type": "code",
   "execution_count": 38,
   "metadata": {},
   "outputs": [
    {
     "name": "stdout",
     "output_type": "stream",
     "text": [
      "10\n"
     ]
    }
   ],
   "source": [
    "kalimat = \"Hari ini mahasiswa mengikuti kelas Algoritma Pemrograman dengan materi string\"\n",
    "\n",
    "kalimat.split()\n",
    "\n",
    "# jumlah kata dalam variabel kalimat\n",
    "print(len(kalimat))"
   ]
  },
  {
   "cell_type": "code",
   "execution_count": 42,
   "metadata": {},
   "outputs": [
    {
     "name": "stdout",
     "output_type": "stream",
     "text": [
      "Hari_ini_mahasiswa_mengikuti_kelas_Algoritma_Pemrograman_dengan_materi_string\n"
     ]
    },
    {
     "data": {
      "text/plain": [
       "['Hari_ini_mahasiswa_mengikuti_kelas_Algoritma_Pemrograman_dengan_materi_string']"
      ]
     },
     "execution_count": 42,
     "metadata": {},
     "output_type": "execute_result"
    }
   ],
   "source": [
    "kalimat2 = kalimat.replace(\" \", \"_\")\n",
    "print(kalimat2)\n",
    "\n",
    "kalimat2.split(\" \")\n"
   ]
  },
  {
   "cell_type": "code",
   "execution_count": 43,
   "metadata": {},
   "outputs": [
    {
     "name": "stdout",
     "output_type": "stream",
     "text": [
      "['Hari', 'ini', 'mahasiswa', 'mengikuti', 'kelas', 'Algoritma', 'Pemrograman', 'dengan', 'materi', 'string']\n"
     ]
    }
   ],
   "source": [
    "words = kalimat2.split(\"_\")\n",
    "print(words)"
   ]
  },
  {
   "cell_type": "code",
   "execution_count": 47,
   "metadata": {},
   "outputs": [
    {
     "data": {
      "text/plain": [
       "'Hari;ini;mahasiswa;mengikuti;kelas;Algoritma;Pemrograman;dengan;materi;string'"
      ]
     },
     "execution_count": 47,
     "metadata": {},
     "output_type": "execute_result"
    }
   ],
   "source": [
    "\";\".join(words)"
   ]
  },
  {
   "cell_type": "code",
   "execution_count": 49,
   "metadata": {},
   "outputs": [
    {
     "name": "stdout",
     "output_type": "stream",
     "text": [
      "🤔\n"
     ]
    }
   ],
   "source": [
    "print(\"🤔\")"
   ]
  },
  {
   "cell_type": "code",
   "execution_count": 50,
   "metadata": {},
   "outputs": [
    {
     "name": "stdout",
     "output_type": "stream",
     "text": [
      "5\n"
     ]
    }
   ],
   "source": [
    "bil = [1, 2, 3, 4, 5]\n",
    "print(max(bil))"
   ]
  },
  {
   "cell_type": "code",
   "execution_count": 52,
   "metadata": {},
   "outputs": [
    {
     "data": {
      "text/plain": [
       "('s', 'a')"
      ]
     },
     "execution_count": 52,
     "metadata": {},
     "output_type": "execute_result"
    }
   ],
   "source": [
    "contoh_kata = \"mengakses\"\n",
    "max(contoh_kata), min(contoh_kata)"
   ]
  },
  {
   "cell_type": "code",
   "execution_count": 54,
   "metadata": {},
   "outputs": [
    {
     "data": {
      "text/plain": [
       "'mengakses data'"
      ]
     },
     "execution_count": 54,
     "metadata": {},
     "output_type": "execute_result"
    }
   ],
   "source": [
    "kata1 = \"mengakses\"\n",
    "kata2 = \"data\"\n",
    "\n",
    "kata1 + \" \" + kata2"
   ]
  },
  {
   "cell_type": "code",
   "execution_count": 56,
   "metadata": {},
   "outputs": [
    {
     "data": {
      "text/plain": [
       "'mengakses mengakses mengakses mengakses mengakses '"
      ]
     },
     "execution_count": 56,
     "metadata": {},
     "output_type": "execute_result"
    }
   ],
   "source": [
    "(kata1 + \" \") * 5"
   ]
  },
  {
   "cell_type": "code",
   "execution_count": 57,
   "metadata": {},
   "outputs": [
    {
     "data": {
      "text/plain": [
       "['a', 'e', 'e', 'g', 'k', 'm', 'n', 's', 's']"
      ]
     },
     "execution_count": 57,
     "metadata": {},
     "output_type": "execute_result"
    }
   ],
   "source": [
    "sorted(kata1)"
   ]
  },
  {
   "cell_type": "code",
   "execution_count": 60,
   "metadata": {},
   "outputs": [
    {
     "data": {
      "text/plain": [
       "['Algoritma',\n",
       " 'Hari',\n",
       " 'Pemrograman',\n",
       " 'dengan',\n",
       " 'ini',\n",
       " 'kelas',\n",
       " 'mahasiswa',\n",
       " 'materi',\n",
       " 'mengikuti',\n",
       " 'string']"
      ]
     },
     "execution_count": 60,
     "metadata": {},
     "output_type": "execute_result"
    }
   ],
   "source": [
    "sorted(kalimat2.split(\"_\"))"
   ]
  },
  {
   "cell_type": "code",
   "execution_count": 65,
   "metadata": {},
   "outputs": [
    {
     "name": "stdout",
     "output_type": "stream",
     "text": [
      "True\n",
      "False\n",
      "True\n"
     ]
    }
   ],
   "source": [
    "# password validator\n",
    "\n",
    "pass_ = \"uabsda213\"\n",
    "pass2 = \"1246891\"\n",
    "\n",
    "print(pass_.isalnum())\n",
    "print(pass_.isalpha())\n",
    "print(pass2.isdigit())"
   ]
  },
  {
   "cell_type": "code",
   "execution_count": null,
   "metadata": {},
   "outputs": [],
   "source": [
    "# (Dijadikan tugas di assignment-02)\n",
    "# Buatlah password minimal 8 karakter maksimal 16 karakter\n",
    "# tersusun atas huruf, angka (minimal 2), dan \n",
    "# karakter spesial (minimal 2)\n",
    "\n",
    "pass1 = \"28\"\n",
    "pass2 = \"123abc_+\""
   ]
  },
  {
   "cell_type": "code",
   "execution_count": 35,
   "metadata": {},
   "outputs": [
    {
     "name": "stdout",
     "output_type": "stream",
     "text": [
      "😀\n",
      "😴\n"
     ]
    }
   ],
   "source": [
    "print('\\N{grinning face}')\n",
    "print('\\N{sleeping face}')"
   ]
  }
 ],
 "metadata": {
  "kernelspec": {
   "display_name": "base",
   "language": "python",
   "name": "python3"
  },
  "language_info": {
   "codemirror_mode": {
    "name": "ipython",
    "version": 3
   },
   "file_extension": ".py",
   "mimetype": "text/x-python",
   "name": "python",
   "nbconvert_exporter": "python",
   "pygments_lexer": "ipython3",
   "version": "3.11.4"
  },
  "orig_nbformat": 4
 },
 "nbformat": 4,
 "nbformat_minor": 2
}
