{
 "cells": [
  {
   "cell_type": "code",
   "execution_count": 1,
   "metadata": {},
   "outputs": [],
   "source": [
    "import sys\n",
    "import traceback\n",
    "import os\n",
    "import re"
   ]
  },
  {
   "cell_type": "code",
   "execution_count": null,
   "metadata": {},
   "outputs": [],
   "source": [
    "print(\".:: Program Luas Segiti\")"
   ]
  },
  {
   "cell_type": "markdown",
   "metadata": {},
   "source": [
    "Hide the error traceback in Jupyter Lab/Notebook. The script is from\n",
    "the following [link](https://stackoverflow.com/questions/61075760/how-to-hide-the-error-traceback-in-jupyter-lab-notebook)"
   ]
  },
  {
   "cell_type": "code",
   "execution_count": null,
   "metadata": {},
   "outputs": [],
   "source": [
    "ipython = get_ipython()\n",
    "\n",
    "def hide_traceback(exc_tuple=None, filename=None, tb_offset=None,\n",
    "    exception_only=False, running_compiled_code=False):\n",
    "  \n",
    "  etype, value, tb = sys.exc_info()\n",
    "  return ipython._showtraceback(etype, value, ipython.InteractiveTB.get_exception_only(etype, value))\n",
    "\n",
    "ipython.showtraceback = hide_traceback"
   ]
  },
  {
   "cell_type": "markdown",
   "metadata": {},
   "source": [
    "## An example of Python's error messasge"
   ]
  },
  {
   "cell_type": "code",
   "execution_count": 2,
   "metadata": {},
   "outputs": [
    {
     "data": {
      "text/plain": [
       "84"
      ]
     },
     "execution_count": 2,
     "metadata": {},
     "output_type": "execute_result"
    }
   ],
   "source": [
    "x = int(\"84\")\n",
    "x"
   ]
  },
  {
   "cell_type": "code",
   "execution_count": 3,
   "metadata": {},
   "outputs": [
    {
     "ename": "ValueError",
     "evalue": "invalid literal for int() with base 10: 'sdf'",
     "output_type": "error",
     "traceback": [
      "\u001b[0;31m---------------------------------------------------------------------------\u001b[0m",
      "\u001b[0;31mValueError\u001b[0m                                Traceback (most recent call last)",
      "\u001b[1;32m/home/henokh/Documents/job-related/024 - SI ITK/ITK/Courses/KU-201-218-algorithm-and-programming/algo-prog-py-scripts/week-10-error-handling.ipynb Cell 6\u001b[0m in \u001b[0;36m<cell line: 1>\u001b[0;34m()\u001b[0m\n\u001b[0;32m----> <a href='vscode-notebook-cell:/home/henokh/Documents/job-related/024%20-%20SI%20ITK/ITK/Courses/KU-201-218-algorithm-and-programming/algo-prog-py-scripts/week-10-error-handling.ipynb#W4sZmlsZQ%3D%3D?line=0'>1</a>\u001b[0m x \u001b[39m=\u001b[39m \u001b[39mint\u001b[39;49m(\u001b[39m\"\u001b[39;49m\u001b[39msdf\u001b[39;49m\u001b[39m\"\u001b[39;49m)\n",
      "\u001b[0;31mValueError\u001b[0m: invalid literal for int() with base 10: 'sdf'"
     ]
    }
   ],
   "source": [
    "x = int(\"sdf\")"
   ]
  },
  {
   "cell_type": "markdown",
   "metadata": {},
   "source": [
    "## Type of error message"
   ]
  },
  {
   "cell_type": "markdown",
   "metadata": {},
   "source": [
    "### `SyntaxError`"
   ]
  },
  {
   "cell_type": "code",
   "execution_count": 4,
   "metadata": {},
   "outputs": [
    {
     "ename": "SyntaxError",
     "evalue": "closing parenthesis ']' does not match opening parenthesis '(' (1414728919.py, line 1)",
     "output_type": "error",
     "traceback": [
      "\u001b[0;36m  Input \u001b[0;32mIn [4]\u001b[0;36m\u001b[0m\n\u001b[0;31m    print(\"sdfsdf\"]\u001b[0m\n\u001b[0m                  ^\u001b[0m\n\u001b[0;31mSyntaxError\u001b[0m\u001b[0;31m:\u001b[0m closing parenthesis ']' does not match opening parenthesis '('\n"
     ]
    }
   ],
   "source": [
    "print(\"sdfsdf\"]"
   ]
  },
  {
   "cell_type": "markdown",
   "metadata": {},
   "source": [
    "### Exception Error"
   ]
  },
  {
   "cell_type": "code",
   "execution_count": 5,
   "metadata": {},
   "outputs": [
    {
     "ename": "ZeroDivisionError",
     "evalue": "division by zero",
     "output_type": "error",
     "traceback": [
      "\u001b[0;31m---------------------------------------------------------------------------\u001b[0m",
      "\u001b[0;31mZeroDivisionError\u001b[0m                         Traceback (most recent call last)",
      "\u001b[1;32m/home/henokh/Documents/job-related/024 - SI ITK/ITK/Courses/KU-201-218-algorithm-and-programming/algo-prog-py-scripts/week-10-error-handling.ipynb Cell 11\u001b[0m in \u001b[0;36m<cell line: 1>\u001b[0;34m()\u001b[0m\n\u001b[0;32m----> <a href='vscode-notebook-cell:/home/henokh/Documents/job-related/024%20-%20SI%20ITK/ITK/Courses/KU-201-218-algorithm-and-programming/algo-prog-py-scripts/week-10-error-handling.ipynb#X12sZmlsZQ%3D%3D?line=0'>1</a>\u001b[0m a \u001b[39m=\u001b[39m \u001b[39m1\u001b[39;49m\u001b[39m/\u001b[39;49m\u001b[39m0\u001b[39;49m\n",
      "\u001b[0;31mZeroDivisionError\u001b[0m: division by zero"
     ]
    }
   ],
   "source": [
    "a = 1/0"
   ]
  },
  {
   "cell_type": "markdown",
   "metadata": {},
   "source": [
    "## Exception Handling"
   ]
  },
  {
   "cell_type": "code",
   "execution_count": 7,
   "metadata": {},
   "outputs": [],
   "source": [
    "def test_exception_handling():\n",
    "  while True:\n",
    "    try:\n",
    "      x = int(input(\"Masukan angka: \"))\n",
    "      print(x)\n",
    "      break\n",
    "    except ValueError:\n",
    "      print(\"Wadduhh, masuking angka aja ya... jangan yang aneh-aneh\")"
   ]
  },
  {
   "cell_type": "code",
   "execution_count": 8,
   "metadata": {},
   "outputs": [
    {
     "name": "stdout",
     "output_type": "stream",
     "text": [
      "Wadduhh, masuking angka aja ya... jangan yang aneh-aneh\n",
      "Wadduhh, masuking angka aja ya... jangan yang aneh-aneh\n",
      "Wadduhh, masuking angka aja ya... jangan yang aneh-aneh\n",
      "Wadduhh, masuking angka aja ya... jangan yang aneh-aneh\n",
      "900\n"
     ]
    }
   ],
   "source": [
    "test_exception_handling()"
   ]
  },
  {
   "cell_type": "markdown",
   "metadata": {},
   "source": [
    "## Multiple cases of exception handling\n",
    "\n",
    "In single tuple\n",
    "```python\n",
    "except (ZeroDivisionError, TypeError, NameError):\n",
    "  print(\"Command for doing an exception handling\")\n",
    "```\n",
    "\n",
    "Define separately\n",
    "```python\n",
    "except OSError as err:\n",
    "  print(\"do handling 1\")\n",
    "except ValueError:\n",
    "  print(\"do handling 2)\n",
    "except:\n",
    "  print(\"Print error output\", sys.exc_info())\n",
    "```"
   ]
  },
  {
   "cell_type": "code",
   "execution_count": null,
   "metadata": {},
   "outputs": [],
   "source": [
    "try:\n",
    "  #f = open(\"not_found.txt\")\n",
    "  f = open(\"found.txt\")\n",
    "  f = open(\"strange_file.txt\")\n",
    "  s = f.readline()\n",
    "  i = int(s.strip())\n",
    "  i = i + \"2\"\n",
    "except OSError as err:\n",
    "  print(\"OSerror: {:}\".format(err))\n",
    "except ValueError:\n",
    "  print(\"Could not convert data to an integer.\")\n",
    "except:\n",
    "  print(\"Unexpected error: \", sys.exc_info()[0])"
   ]
  },
  {
   "cell_type": "markdown",
   "metadata": {},
   "source": [
    "## Exception handling with `else`"
   ]
  },
  {
   "cell_type": "code",
   "execution_count": null,
   "metadata": {},
   "outputs": [],
   "source": [
    "def test_exception_handling_else():\n",
    "  while True:\n",
    "    try:\n",
    "      x = int(input(\"Masukan angka: \"))\n",
    "    except ValueError:\n",
    "      print(\"Wadduhh, masuking angka aja ya... jangan yang aneh-aneh\")\n",
    "    else:\n",
    "      print(x)\n",
    "      break\n"
   ]
  },
  {
   "cell_type": "code",
   "execution_count": null,
   "metadata": {},
   "outputs": [],
   "source": [
    "test_exception_handling_else()"
   ]
  },
  {
   "cell_type": "markdown",
   "metadata": {},
   "source": [
    "## Raising an exception"
   ]
  },
  {
   "cell_type": "code",
   "execution_count": 9,
   "metadata": {},
   "outputs": [
    {
     "ename": "ZeroDivisionError",
     "evalue": "pembagian dengan nol",
     "output_type": "error",
     "traceback": [
      "\u001b[0;31m---------------------------------------------------------------------------\u001b[0m",
      "\u001b[0;31mZeroDivisionError\u001b[0m                         Traceback (most recent call last)",
      "\u001b[1;32m/home/henokh/Documents/job-related/024 - SI ITK/ITK/Courses/KU-201-218-algorithm-and-programming/algo-prog-py-scripts/week-10-error-handling.ipynb Cell 21\u001b[0m in \u001b[0;36m<cell line: 1>\u001b[0;34m()\u001b[0m\n\u001b[0;32m----> <a href='vscode-notebook-cell:/home/henokh/Documents/job-related/024%20-%20SI%20ITK/ITK/Courses/KU-201-218-algorithm-and-programming/algo-prog-py-scripts/week-10-error-handling.ipynb#X43sZmlsZQ%3D%3D?line=0'>1</a>\u001b[0m \u001b[39mraise\u001b[39;00m \u001b[39mZeroDivisionError\u001b[39;00m(\u001b[39m\"\u001b[39m\u001b[39mpembagian dengan nol\u001b[39m\u001b[39m\"\u001b[39m)\n",
      "\u001b[0;31mZeroDivisionError\u001b[0m: pembagian dengan nol"
     ]
    }
   ],
   "source": [
    "raise ZeroDivisionError(\"pembagian dengan nol\")"
   ]
  },
  {
   "cell_type": "code",
   "execution_count": null,
   "metadata": {},
   "outputs": [],
   "source": [
    "raise NameError(\"This message is from NameError\")"
   ]
  },
  {
   "cell_type": "code",
   "execution_count": null,
   "metadata": {},
   "outputs": [],
   "source": [
    "try:\n",
    "  raise NameError(\"This message is from NameError\")\n",
    "except NameError:\n",
    "  print(\"An exception flew by!\")\n",
    " "
   ]
  },
  {
   "cell_type": "markdown",
   "metadata": {},
   "source": [
    "## Exception handling with `finally`"
   ]
  },
  {
   "cell_type": "code",
   "execution_count": 10,
   "metadata": {},
   "outputs": [
    {
     "name": "stdout",
     "output_type": "stream",
     "text": [
      "Goodbye, world!\n"
     ]
    },
    {
     "ename": "KeyboardInterrupt",
     "evalue": "You have interrupted the execution",
     "output_type": "error",
     "traceback": [
      "\u001b[0;31m---------------------------------------------------------------------------\u001b[0m",
      "\u001b[0;31mKeyboardInterrupt\u001b[0m                         Traceback (most recent call last)",
      "\u001b[1;32m/home/henokh/Documents/job-related/024 - SI ITK/ITK/Courses/KU-201-218-algorithm-and-programming/algo-prog-py-scripts/week-10-error-handling.ipynb Cell 25\u001b[0m in \u001b[0;36m<cell line: 1>\u001b[0;34m()\u001b[0m\n\u001b[1;32m      <a href='vscode-notebook-cell:/home/henokh/Documents/job-related/024%20-%20SI%20ITK/ITK/Courses/KU-201-218-algorithm-and-programming/algo-prog-py-scripts/week-10-error-handling.ipynb#X31sZmlsZQ%3D%3D?line=0'>1</a>\u001b[0m \u001b[39mtry\u001b[39;00m:\n\u001b[0;32m----> <a href='vscode-notebook-cell:/home/henokh/Documents/job-related/024%20-%20SI%20ITK/ITK/Courses/KU-201-218-algorithm-and-programming/algo-prog-py-scripts/week-10-error-handling.ipynb#X31sZmlsZQ%3D%3D?line=1'>2</a>\u001b[0m   \u001b[39mraise\u001b[39;00m \u001b[39mKeyboardInterrupt\u001b[39;00m(\u001b[39m\"\u001b[39m\u001b[39mYou have interrupted the execution\u001b[39m\u001b[39m\"\u001b[39m)\n\u001b[1;32m      <a href='vscode-notebook-cell:/home/henokh/Documents/job-related/024%20-%20SI%20ITK/ITK/Courses/KU-201-218-algorithm-and-programming/algo-prog-py-scripts/week-10-error-handling.ipynb#X31sZmlsZQ%3D%3D?line=2'>3</a>\u001b[0m \u001b[39mfinally\u001b[39;00m:\n\u001b[1;32m      <a href='vscode-notebook-cell:/home/henokh/Documents/job-related/024%20-%20SI%20ITK/ITK/Courses/KU-201-218-algorithm-and-programming/algo-prog-py-scripts/week-10-error-handling.ipynb#X31sZmlsZQ%3D%3D?line=3'>4</a>\u001b[0m   \u001b[39mprint\u001b[39m(\u001b[39m\"\u001b[39m\u001b[39mGoodbye, world!\u001b[39m\u001b[39m\"\u001b[39m)\n",
      "\u001b[0;31mKeyboardInterrupt\u001b[0m: You have interrupted the execution"
     ]
    }
   ],
   "source": [
    "try:\n",
    "  raise KeyboardInterrupt(\"You have interrupted the execution\")\n",
    "finally:\n",
    "  print(\"Goodbye, world!\")"
   ]
  },
  {
   "cell_type": "markdown",
   "metadata": {},
   "source": [
    "If the `try` statement reaches a `break`, `continue` or `return` statement,\n",
    "the `finally` clause will execute just prior to the `break`, `continue` or\n",
    "`return` statement's execution."
   ]
  },
  {
   "cell_type": "code",
   "execution_count": null,
   "metadata": {},
   "outputs": [],
   "source": [
    "def bool_return():\n",
    "  try:\n",
    "    return True\n",
    "  finally:\n",
    "    return False"
   ]
  },
  {
   "cell_type": "markdown",
   "metadata": {},
   "source": [
    "A more complicate example:"
   ]
  },
  {
   "cell_type": "code",
   "execution_count": null,
   "metadata": {},
   "outputs": [],
   "source": [
    "def divide(x, y):\n",
    "  try:\n",
    "    result = x / y \n",
    "  except ZeroDivisionError:\n",
    "    print(\"division by zero!\")\n",
    "  else:\n",
    "    print(\"result is\", result)\n",
    "  finally:\n",
    "    print(\"executing finally clause\")"
   ]
  },
  {
   "cell_type": "code",
   "execution_count": null,
   "metadata": {},
   "outputs": [],
   "source": [
    "divide(2, 1)"
   ]
  },
  {
   "cell_type": "code",
   "execution_count": null,
   "metadata": {},
   "outputs": [],
   "source": [
    "divide(2, 0)"
   ]
  },
  {
   "cell_type": "code",
   "execution_count": null,
   "metadata": {},
   "outputs": [],
   "source": [
    "divide(\"2\", \"1\")"
   ]
  }
 ],
 "metadata": {
  "kernelspec": {
   "display_name": "Python 3.8.10 ('base')",
   "language": "python",
   "name": "python3"
  },
  "language_info": {
   "codemirror_mode": {
    "name": "ipython",
    "version": 3
   },
   "file_extension": ".py",
   "mimetype": "text/x-python",
   "name": "python",
   "nbconvert_exporter": "python",
   "pygments_lexer": "ipython3",
   "version": "3.11.4"
  },
  "orig_nbformat": 4,
  "vscode": {
   "interpreter": {
    "hash": "b68217c4fa6011267e0d81cc47bb50822e9770eb46de3a1f506be20c9f89249d"
   }
  }
 },
 "nbformat": 4,
 "nbformat_minor": 2
}
